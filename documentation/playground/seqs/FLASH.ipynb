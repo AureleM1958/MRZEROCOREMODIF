{
 "cells": [
  {
   "cell_type": "code",
   "execution_count": null,
   "metadata": {},
   "outputs": [],
   "source": [
    "import numpy as np\n",
    "np.int = int\n",
    "np.float = float\n",
    "np.complex = complex\n",
    "\n",
    "# TODO: replace with pp = pulseqzero.facade\n",
    "import pypulseq as pp\n",
    "import torch\n",
    "import MRzeroCore as mr0\n",
    "\n",
    "import matplotlib.pyplot as plt"
   ]
  },
  {
   "cell_type": "code",
   "execution_count": null,
   "metadata": {},
   "outputs": [],
   "source": [
    "DEFAULT_SYSTEM = pp.Opts(\n",
    "    max_grad=28, grad_unit='mT/m',\n",
    "    max_slew=150, slew_unit='T/m/s',\n",
    "    rf_ringdown_time=20e-6, rf_dead_time=100e-6,\n",
    "    adc_dead_time=20e-6,\n",
    "    grad_raster_time=50e-6\n",
    ")"
   ]
  },
  {
   "cell_type": "code",
   "execution_count": null,
   "metadata": {},
   "outputs": [],
   "source": [
    "def flash_2D(fov=200e-3, slice_thickness=8e-3,\n",
    "             n_read=64, n_phase=64,\n",
    "             flip_angle=10, phase_cycling=84,\n",
    "             system=DEFAULT_SYSTEM):\n",
    "    \"\"\"Linear, cartesian 2D FLASH with TR = 26 ms + 50 us * n_phase\"\"\"\n",
    "    rf, gz, gzr = pp.make_sinc_pulse(\n",
    "        flip_angle=flip_angle * np.pi / 180, duration=1e-3,\n",
    "        slice_thickness=slice_thickness, apodization=0.5, time_bw_product=4,\n",
    "        return_gz=True, system=system\n",
    "    )\n",
    "\n",
    "    adc_dur = n_phase * 50e-6\n",
    "    gx = pp.make_trapezoid(channel='x', flat_area=n_read / fov, flat_time=adc_dur, system=system)\n",
    "    adc = pp.make_adc(num_samples=n_read, duration=adc_dur, delay=gx.rise_time, system=system)\n",
    "    gx_pre = pp.make_trapezoid(channel='x', area=-0.5 * gx.area, duration=5e-3, system=system)\n",
    "    gx_spoil = pp.make_trapezoid(channel='x', area=1.5 * gx.area, duration=2e-3, system=system)\n",
    "\n",
    "    seq = pp.Sequence(system)\n",
    "    for i in range(n_phase):\n",
    "        phase = 0.5 * phase_cycling * (2 + i + i**2)\n",
    "        rf.phase_offset = (phase % 360) * np.pi / 180\n",
    "        adc.phase_offset = rf.phase_offset\n",
    "\n",
    "        phenc = (i - n_phase // 2) / fov\n",
    "\n",
    "        seq.add_block(rf, gz)\n",
    "        seq.add_block(gzr, pp.make_delay(5e-3))\n",
    "        gp = pp.make_trapezoid(channel='y', area=phenc, duration=5e-3, system=system)\n",
    "        seq.add_block(gx_pre, gp)\n",
    "        seq.add_block(adc, gx)\n",
    "        gp = pp.make_trapezoid(channel='y', area=-phenc, duration=5e-3, system=system)\n",
    "        seq.add_block(gx_spoil, gp)\n",
    "        seq.add_block(pp.make_delay(10e-3))\n",
    "\n",
    "    seq.set_definition('FOV', [fov, fov, slice_thickness])\n",
    "    seq.set_definition('Name', 'gre')\n",
    "    return seq"
   ]
  },
  {
   "cell_type": "code",
   "execution_count": null,
   "metadata": {},
   "outputs": [],
   "source": [
    "seq = flash_2D()\n",
    "\n",
    "ok, err = seq.check_timing()\n",
    "if not ok:\n",
    "    print(\"\".join(e for e in err))\n",
    "\n",
    "seq.plot()\n",
    "seq.write(\"export.seq\")"
   ]
  },
  {
   "cell_type": "code",
   "execution_count": null,
   "metadata": {},
   "outputs": [],
   "source": [
    "phantom = mr0.VoxelGridPhantom.brainweb(\"../quantified_brain.npz\")\n",
    "phantom.plot()\n",
    "sim_data = phantom.build()\n",
    "\n",
    "seq0 = mr0.Sequence.import_file(\"export.seq\")\n",
    "seq0.plot_kspace_trajectory()"
   ]
  },
  {
   "cell_type": "code",
   "execution_count": null,
   "metadata": {},
   "outputs": [],
   "source": [
    "graph = mr0.compute_graph(seq0, sim_data, 200, 1e-3)\n",
    "signal = mr0.execute_graph(graph, seq0, sim_data, print_progress=False)\n",
    "\n",
    "kspace = signal.reshape(64, 64).T\n",
    "reco = torch.fft.fftshift(torch.fft.fft2(torch.fft.fftshift(kspace)))\n",
    "\n",
    "plt.figure(figsize=(9, 9))\n",
    "\n",
    "plt.subplot(311)\n",
    "plt.title('ADC signal')\n",
    "plt.plot(signal.real, label='real')\n",
    "plt.plot(signal.imag, label='imag')\n",
    "plt.grid()\n",
    "\n",
    "plt.subplot(334)\n",
    "plt.title('k-space')\n",
    "mr0.util.imshow(np.abs(kspace.numpy()))\n",
    "plt.axis(\"off\")\n",
    "plt.subplot(337)\n",
    "plt.title('log. k-space')\n",
    "mr0.util.imshow(np.log(np.abs(kspace.numpy())))\n",
    "plt.axis(\"off\")\n",
    "\n",
    "plt.subplot(335)\n",
    "plt.title('FFT-magnitude')\n",
    "mr0.util.imshow(reco.abs(), vmin=0)\n",
    "plt.axis(\"off\")\n",
    "plt.subplot(338)\n",
    "plt.title('FFT-phase')\n",
    "mr0.util.imshow(reco.angle(), vmin=-np.pi, vmax=np.pi, cmap=\"twilight\")\n",
    "plt.axis(\"off\")\n",
    "\n",
    "plt.subplot(336)\n",
    "plt.title('phantom PD')\n",
    "mr0.util.imshow(phantom.PD)\n",
    "plt.axis(\"off\")\n",
    "plt.subplot(339)\n",
    "plt.title('phantom B0')\n",
    "mr0.util.imshow(phantom.B0)\n",
    "plt.axis(\"off\")\n",
    "\n",
    "plt.show()"
   ]
  }
 ],
 "metadata": {
  "kernelspec": {
   "display_name": ".env",
   "language": "python",
   "name": "python3"
  },
  "language_info": {
   "codemirror_mode": {
    "name": "ipython",
    "version": 3
   },
   "file_extension": ".py",
   "mimetype": "text/x-python",
   "name": "python",
   "nbconvert_exporter": "python",
   "pygments_lexer": "ipython3",
   "version": "3.11.4"
  }
 },
 "nbformat": 4,
 "nbformat_minor": 2
}
