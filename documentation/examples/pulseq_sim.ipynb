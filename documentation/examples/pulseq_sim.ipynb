{
  "cells": [
    {
      "cell_type": "code",
      "execution_count": 1,
      "metadata": {
        "colab": {
          "base_uri": "https://localhost:8080/",
          "height": 257
        },
        "id": "O-_sr6lZjR_n",
        "outputId": "52bb3cab-4dbf-45d5-aaed-0e05f5d14128"
      },
      "outputs": [],
      "source": [
        "import numpy as np\n",
        "import pypulseq as pp\n",
        "import MRzeroCore as mr0\n",
        "import torch\n",
        "import matplotlib.pyplot as plt\n",
        "\n",
        "# HACK: newer numpy versions don't contain this, but pypulseq still relies on it\n",
        "np.int = int\n",
        "np.float = float"
      ]
    },
    {
      "cell_type": "code",
      "execution_count": 2,
      "metadata": {
        "id": "HTYTghFLjeCY"
      },
      "outputs": [
        {
          "ename": "RuntimeError",
          "evalue": "Unsupported version_minor: 4. Expected: 3",
          "output_type": "error",
          "traceback": [
            "\u001b[1;31m---------------------------------------------------------------------------\u001b[0m",
            "\u001b[1;31mRuntimeError\u001b[0m                              Traceback (most recent call last)",
            "Cell \u001b[1;32mIn[2], line 2\u001b[0m\n\u001b[0;32m      1\u001b[0m seq \u001b[39m=\u001b[39m pp\u001b[39m.\u001b[39mSequence()\n\u001b[1;32m----> 2\u001b[0m seq\u001b[39m.\u001b[39;49mread(\u001b[39m\"\u001b[39;49m\u001b[39mout/flash pTx.seq\u001b[39;49m\u001b[39m\"\u001b[39;49m)\n\u001b[0;32m      4\u001b[0m \u001b[39mprint\u001b[39m(\u001b[39m'\u001b[39m\u001b[39mload phantom\u001b[39m\u001b[39m'\u001b[39m)\n\u001b[0;32m      5\u001b[0m \u001b[39m# %% S4: SETUP SPIN SYSTEM/object on which we can run the MR sequence external.seq from above\u001b[39;00m\n",
            "File \u001b[1;32mc:\\Users\\jonat\\AppData\\Local\\Programs\\Python\\Python311\\Lib\\site-packages\\pypulseq\\Sequence\\sequence.py:626\u001b[0m, in \u001b[0;36mSequence.read\u001b[1;34m(self, file_path)\u001b[0m\n\u001b[0;32m    617\u001b[0m \u001b[39mdef\u001b[39;00m \u001b[39mread\u001b[39m(\u001b[39mself\u001b[39m, file_path: \u001b[39mstr\u001b[39m) \u001b[39m-\u001b[39m\u001b[39m>\u001b[39m \u001b[39mNone\u001b[39;00m:\n\u001b[0;32m    618\u001b[0m \u001b[39m    \u001b[39m\u001b[39m\"\"\"\u001b[39;00m\n\u001b[0;32m    619\u001b[0m \u001b[39m    Read `.seq` file from `file_path`.\u001b[39;00m\n\u001b[0;32m    620\u001b[0m \n\u001b[1;32m   (...)\u001b[0m\n\u001b[0;32m    624\u001b[0m \u001b[39m        Path to `.seq` file to be read.\u001b[39;00m\n\u001b[0;32m    625\u001b[0m \u001b[39m    \"\"\"\u001b[39;00m\n\u001b[1;32m--> 626\u001b[0m     read(\u001b[39mself\u001b[39;49m, file_path)\n",
            "File \u001b[1;32mc:\\Users\\jonat\\AppData\\Local\\Programs\\Python\\Python311\\Lib\\site-packages\\pypulseq\\Sequence\\read_seq.py:66\u001b[0m, in \u001b[0;36mread\u001b[1;34m(self, path, detect_rf_use)\u001b[0m\n\u001b[0;32m     63\u001b[0m compatibility_mode_12x_13x \u001b[39m=\u001b[39m \u001b[39mFalse\u001b[39;00m\n\u001b[0;32m     65\u001b[0m \u001b[39mif\u001b[39;00m version_minor \u001b[39m!=\u001b[39m \u001b[39mself\u001b[39m\u001b[39m.\u001b[39mversion_minor:\n\u001b[1;32m---> 66\u001b[0m     \u001b[39mraise\u001b[39;00m \u001b[39mRuntimeError\u001b[39;00m(\u001b[39mf\u001b[39m\u001b[39m'\u001b[39m\u001b[39mUnsupported version_minor: \u001b[39m\u001b[39m{\u001b[39;00mversion_minor\u001b[39m}\u001b[39;00m\u001b[39m. Expected: \u001b[39m\u001b[39m{\u001b[39;00m\u001b[39mself\u001b[39m\u001b[39m.\u001b[39mversion_minor\u001b[39m}\u001b[39;00m\u001b[39m'\u001b[39m)\n\u001b[0;32m     68\u001b[0m \u001b[39mif\u001b[39;00m version_revision \u001b[39m>\u001b[39m \u001b[39mself\u001b[39m\u001b[39m.\u001b[39mversion_revision:\n\u001b[0;32m     69\u001b[0m     \u001b[39mraise\u001b[39;00m \u001b[39mRuntimeError\u001b[39;00m(\n\u001b[0;32m     70\u001b[0m         \u001b[39mf\u001b[39m\u001b[39m'\u001b[39m\u001b[39mUnsupported version_revision: \u001b[39m\u001b[39m{\u001b[39;00mversion_revision\u001b[39m}\u001b[39;00m\u001b[39m. Expected: \u001b[39m\u001b[39m{\u001b[39;00m\u001b[39mself\u001b[39m\u001b[39m.\u001b[39mversion_revision\u001b[39m}\u001b[39;00m\u001b[39m'\u001b[39m)\n",
            "\u001b[1;31mRuntimeError\u001b[0m: Unsupported version_minor: 4. Expected: 3"
          ]
        }
      ],
      "source": [
        "seq = pp.Sequence()\n",
        "seq.read(\"out/flash pTx.seq\")\n",
        "\n",
        "print('load phantom')\n",
        "# %% S4: SETUP SPIN SYSTEM/object on which we can run the MR sequence external.seq from above\n",
        "sz = [64, 64]\n",
        "obj_p = mr0.VoxelGridPhantom.load_mat('../data/numerical_brain_cropped.mat')\n",
        "brain_phantom_res = 64 #@param {type:\"slider\", min:16, max:128, step:16}\n",
        "obj_p = obj_p.interpolate(brain_phantom_res, brain_phantom_res, 1)\n",
        "obj_p.B0[:] = 0\n",
        "plot_phantom = False #@param {type:\"boolean\"}\n",
        "if plot_phantom: obj_p.plot()\n",
        "\n",
        "obj_p = obj_p.build()\n",
        "print('simulate (2D) \\n' + seq_file)\n",
        "print(os.getcwd())\n",
        "seq0_file = mr0.PulseqFile(seq_file)\n",
        "seq0 = mr0.Sequence.from_seq_file(seq0_file)\n",
        "# seq0.plot_kspace_trajectory()\n",
        "# Simulate the sequence\n",
        "graph = mr0.compute_graph(seq0, obj_p, 200, 1e-3)\n",
        "signal = mr0.execute_graph(graph, seq0, obj_p)\n",
        "# PLOT sequence with SIGNAL\n",
        "\n",
        "sp_adc, t_adc = util.pulseq_plot(seq=seq,signal=signal.numpy())\n",
        "\n"
      ]
    },
    {
      "cell_type": "code",
      "execution_count": null,
      "metadata": {
        "id": "uLlcta8qwU5L"
      },
      "outputs": [],
      "source": [
        "#@title 3. reconstruct the image\n",
        "# Unfortunately, we need to limit the resolution as reco_adjoint is very RAM-hungy\n",
        "print('reconstruct and plot')\n",
        "seq0.plot_kspace_trajectory()\n",
        "\n",
        "reco = mr0.reco_adjoint(signal, seq0.get_kspace(), resolution=(64, 64, 1), FOV=(1, 1, 1))\n",
        "plt.figure()\n",
        "plt.subplot(121)\n",
        "plt.title(\"Magnitude\")\n",
        "plt.imshow(reco[:, :, 0].T.abs(), origin=\"lower\")\n",
        "plt.colorbar()\n",
        "plt.subplot(122)\n",
        "plt.title(\"Phase\")\n",
        "plt.imshow(reco[:, :, 0].T.angle(), origin=\"lower\", vmin=-np.pi, vmax=np.pi)\n",
        "plt.colorbar()\n",
        "plt.show()"
      ]
    }
  ],
  "metadata": {
    "colab": {
      "provenance": []
    },
    "kernelspec": {
      "display_name": "Python 3",
      "name": "python3"
    },
    "language_info": {
      "codemirror_mode": {
        "name": "ipython",
        "version": 3
      },
      "file_extension": ".py",
      "mimetype": "text/x-python",
      "name": "python",
      "nbconvert_exporter": "python",
      "pygments_lexer": "ipython3",
      "version": "3.11.3"
    }
  },
  "nbformat": 4,
  "nbformat_minor": 0
}
