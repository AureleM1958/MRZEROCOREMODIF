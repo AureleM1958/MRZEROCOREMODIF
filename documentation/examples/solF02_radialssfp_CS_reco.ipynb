{
 "cells": [
  {
   "attachments": {},
   "cell_type": "markdown",
   "metadata": {},
   "source": [
    "# Experiment F02: undersampeld radial with Compressed Sensing (CS)"
   ]
  },
  {
   "cell_type": "code",
   "execution_count": null,
   "metadata": {},
   "outputs": [],
   "source": [
    "experiment_id = 'exF02_undersampled_radial'\n",
    "\n",
    "import numpy as np\n",
    "# HACK: newer numpy versions don't contain this, but pypulseq still relies on it\n",
    "np.int = int\n",
    "np.float = float\n",
    "np.complex = complex\n",
    "\n",
    "import MRzeroCore as mr0\n",
    "import math\n",
    "import torch\n",
    "import matplotlib.pyplot as plt\n",
    "import pypulseq as pp"
   ]
  },
  {
   "attachments": {},
   "cell_type": "markdown",
   "metadata": {},
   "source": [
    "(CS_reco)=\n",
    "## 1) Setup system"
   ]
  },
  {
   "cell_type": "code",
   "execution_count": null,
   "metadata": {},
   "outputs": [],
   "source": [
    "system = pp.Opts(max_grad=28, grad_unit='mT/m', max_slew=150, slew_unit='T/m/s',\n",
    "                 rf_ringdown_time=20e-6, rf_dead_time=100e-6, adc_dead_time=20e-6,\n",
    "                 grad_raster_time=50*10e-6)\n",
    "\n",
    "fov = 1000e-3 \n",
    "slice_thickness=8e-3\n",
    "\n",
    "Nread = 64    # frequency encoding steps/samples\n",
    "Nphase = 32   # phase encoding steps/samples"
   ]
  },
  {
   "attachments": {},
   "cell_type": "markdown",
   "metadata": {},
   "source": [
    "## 2) Construct the Sequence"
   ]
  },
  {
   "cell_type": "code",
   "execution_count": null,
   "metadata": {},
   "outputs": [],
   "source": [
    "seq = pp.Sequence()\n",
    "rf_phase = 180\n",
    "rf_inc = 180\n",
    "\n",
    "rf0 = pp.make_sinc_pulse(flip_angle=6/2 * math.pi / 180, duration=1e-3,\n",
    "                         slice_thickness=slice_thickness, apodization=0.5,\n",
    "                         time_bw_product=4, system=system)                      \n",
    "rf1 = pp.make_sinc_pulse(flip_angle=6 * math.pi / 180, duration=1e-3,\n",
    "                         slice_thickness=slice_thickness, apodization=0.5,\n",
    "                         time_bw_product=4, system=system)\n",
    "\n",
    "gx_tmp = pp.make_trapezoid(channel='x', flat_area=Nread, flat_time=5e-3, system=system)\n",
    "adc = pp.make_adc(num_samples=Nread, duration=5e-3, phase_offset=0*np.pi/180,\n",
    "                  delay=gx_tmp.rise_time, system=system)\n",
    "\n",
    "seq.add_block(rf0)\n",
    "seq.add_block(pp.make_delay(3e-3))\n",
    "\n",
    "for ii in range(-Nphase//2, Nphase//2):  # e.g. -64:63\n",
    "    rf1.phase_offset = rf_phase / 180 * np.pi   # set current rf phase\n",
    "    \n",
    "    adc.phase_offset = rf_phase / 180 * np.pi  # follow with ADC\n",
    "    rf_phase = divmod(rf_phase + rf_inc, 360.0)[1]        # increment additional pahse\n",
    "\n",
    "    seq.add_block(rf1)\n",
    "    \n",
    "    if ii != 0:\n",
    "        gx = pp.make_trapezoid(channel='x', flat_area=-Nread*np.sin(ii/Nphase*np.pi), flat_time=5e-3, system=system)\n",
    "    else:\n",
    "        # pulseq 1.3.1post1 thinks flat_area=0 means it was not set\n",
    "        gx = pp.make_trapezoid(channel='x', flat_area=1e-7, flat_time=5e-3, system=system)\n",
    "    gy = pp.make_trapezoid(channel='y', flat_area=Nread*np.cos(ii/Nphase*np.pi), flat_time=5e-3, system=system)\n",
    "    \n",
    "    gx_pre = pp.make_trapezoid(channel='x', area=-gx.area / 2, duration=1e-3, system=system)\n",
    "    gy_pre = pp.make_trapezoid(channel='y', area=-gy.area / 2, duration=1e-3, system=system)\n",
    "    \n",
    "    \n",
    "    seq.add_block(gx_pre,gy_pre)\n",
    "    seq.add_block(adc,gx,gy)\n",
    "    # seq.add_block(adc,gx,gy)\n",
    "    seq.add_block(gx_pre,gy_pre)\n",
    "    # seq.add_block(make_delay(10))"
   ]
  },
  {
   "attachments": {},
   "cell_type": "markdown",
   "metadata": {},
   "source": [
    "## 3) Check, Plot and Write the sequence as .seq"
   ]
  },
  {
   "cell_type": "code",
   "execution_count": null,
   "metadata": {},
   "outputs": [],
   "source": [
    "ok, error_report = seq.check_timing()  # Check whether the timing of the sequence is correct\n",
    "if ok:\n",
    "    print('Timing check passed successfully')\n",
    "else:\n",
    "    print('Timing check failed. Error listing follows:')\n",
    "    [print(e) for e in error_report]\n",
    "\n",
    "# PLOT sequence\n",
    "seq.plot()\n",
    "\n",
    "# Prepare the sequence output for the scanner\n",
    "seq.set_definition('FOV', [fov, fov, slice_thickness]*1000)\n",
    "seq.set_definition('Name', 'gre')\n",
    "seq.write('out/external.seq')\n",
    "seq.write('out/' + experiment_id +'.seq')"
   ]
  },
  {
   "attachments": {},
   "cell_type": "markdown",
   "metadata": {},
   "source": [
    "## 4) Simulate the .seq file"
   ]
  },
  {
   "cell_type": "code",
   "execution_count": null,
   "metadata": {},
   "outputs": [],
   "source": [
    "%%capture\n",
    "\n",
    "sz = (64, 64)\n",
    "\n",
    "phantom = mr0.VoxelGridPhantom.brainweb(\"subject05.npz\")\n",
    "phantom = phantom.interpolate(64, 64, 32).slices([16])\n",
    "data = phantom.build()\n",
    "\n",
    "seq = mr0.Sequence.from_seq_file(\"out/external.seq\")\n",
    "graph = mr0.compute_graph(seq, data, 200, 1e-3)\n",
    "signal = mr0.execute_graph(graph, seq, data)\n",
    "kspace_loc = seq.get_kspace()\n",
    "\n",
    "\n",
    "kspace_adc=torch.reshape((signal),(Nphase,Nread)).clone().t()\n",
    "spectrum=kspace_adc\n",
    "\n",
    "space = torch.zeros_like(spectrum)\n",
    "\n",
    "\n",
    "import scipy.interpolate\n",
    "grid = kspace_loc[:,:2]\n",
    "Nx=64\n",
    "Ny=64\n",
    "\n",
    "X, Y = np.meshgrid(np.linspace(0,Nx-1,Nx) - Nx / 2, np.linspace(0,Ny-1,Ny) - Ny/2)\n",
    "grid = np.double(grid.numpy())\n",
    "grid[np.abs(grid) < 1e-3] = 0\n",
    "\n",
    "plt.subplot(347); plt.plot(grid[:,0].ravel(),grid[:,1].ravel(),'rx',markersize=3);  plt.plot(X,Y,'k.',markersize=2);\n",
    "plt.show()\n",
    "\n",
    "spectrum_resampled_x = scipy.interpolate.griddata((grid[:,0].ravel(), grid[:,1].ravel()), np.real(signal.ravel()), (X, Y), method='cubic')\n",
    "spectrum_resampled_y = scipy.interpolate.griddata((grid[:,0].ravel(), grid[:,1].ravel()), np.imag(signal.ravel()), (X, Y), method='cubic')\n",
    "\n",
    "kspace_r=spectrum_resampled_x+1j*spectrum_resampled_y\n",
    "kspace_r[np.isnan(kspace_r)] = 0\n",
    "\n",
    "\n",
    "\n",
    "# k-space sampling pattern needed for the CS algorithms\n",
    "pattern_resampled=np.zeros([sz[0],sz[1]])\n",
    "gridx=grid[:,0].ravel()\n",
    "gridy=grid[:,1].ravel()\n",
    "for ii in range(len(gridx)):\n",
    "    pattern_resampled[int(gridx[ii]),int(gridy[ii])]=1\n",
    "plt.imshow(pattern_resampled)\n",
    "plt.show()\n",
    "# end sampling pattern"
   ]
  },
  {
   "attachments": {},
   "cell_type": "markdown",
   "metadata": {},
   "source": [
    "## 5) Compressed Sensing MR reconstruction of undersampled signal"
   ]
  },
  {
   "attachments": {},
   "cell_type": "markdown",
   "metadata": {},
   "source": [
    "### 5.1) Function definitions"
   ]
  },
  {
   "cell_type": "code",
   "execution_count": null,
   "metadata": {},
   "outputs": [],
   "source": [
    "import pywt\n",
    "from skimage.restoration import denoise_tv_chambolle\n",
    "\n",
    "\n",
    "def shrink(coeff, epsilon):\n",
    "\tshrink_values = (abs(coeff) < epsilon) \n",
    "\thigh_values = coeff >= epsilon\n",
    "\tlow_values = coeff <= -epsilon\n",
    "\tcoeff[shrink_values] = 0\n",
    "\tcoeff[high_values] -= epsilon\n",
    "\tcoeff[low_values] += epsilon\n",
    "\n",
    "# help: https://www2.isye.gatech.edu/~brani/wp/kidsA.pdf\n",
    "for family in pywt.families():\n",
    "    print(\"%s family: \" % family + ', '.join(pywt.wavelist(family)))\n",
    "print(pywt.Wavelet('haar'))\n",
    "\n",
    "\n",
    "def waveletShrinkage(current, epsilon):\n",
    "\t# Compute Wavelet decomposition\n",
    "\tcA, (cH, cV, cD)  = pywt.dwt2(current, 'haar')\n",
    "\t#Shrink\n",
    "\tshrink(cA, epsilon)\n",
    "\tshrink(cH, epsilon)\n",
    "\tshrink(cV, epsilon)\n",
    "\tshrink(cD, epsilon)\n",
    "\twavelet = cA, (cH, cV, cD)\n",
    "\t# return inverse WT\n",
    "\treturn pywt.idwt2(wavelet, 'haar')\n",
    "\n",
    "\n",
    "def updateData(k_space, pattern, current, step,i):\n",
    "    # go to k-space\n",
    "    update = np.fft.ifft2(np.fft.fftshift(current))\n",
    "    # compute difference\n",
    "    update = k_space - (update * pattern)\n",
    "    print(\"i: {}, consistency RMSEpc: {:3.6f}\".format(i,np.abs(update[:]).sum()*100))\n",
    "    # return to image space\n",
    "    update = np.fft.fftshift(np.fft.fft2(update))\n",
    "    update = current + (step * update)  # improve current estimation by consitency\n",
    "    return update"
   ]
  },
  {
   "attachments": {},
   "cell_type": "markdown",
   "metadata": {},
   "source": [
    "### 5.2) Preparation and conventional fully sampled reconstruction"
   ]
  },
  {
   "cell_type": "code",
   "execution_count": null,
   "metadata": {},
   "outputs": [],
   "source": [
    "kspace_full = np.fft.ifftshift(kspace_r)  # high  frequencies centered as FFT needs it\n",
    "\n",
    "kspace=kspace_full\n",
    "recon_nufft = (np.fft.fftshift(np.fft.fft2(kspace_full))) # fully sampled recon"
   ]
  },
  {
   "attachments": {},
   "cell_type": "markdown",
   "metadata": {},
   "source": [
    "### 5.3) Undersampling and undersampled reconstruction"
   ]
  },
  {
   "cell_type": "code",
   "execution_count": null,
   "metadata": {},
   "outputs": [],
   "source": [
    "# kspace_full= kspace_full/ np.linalg.norm(kspace_full[:])   # normalization of the data somethimes helps\n",
    "\n",
    "# parameters of iterative reconstructio using total variation denoising  \n",
    "denoising_strength = 5e-5\n",
    "number_of_iterations = 8000\n",
    "\n",
    "# parameters of random subsampling pattern\n",
    "# percent = 0.25        # this is the amount of data that is randomly measured\n",
    "# square_size = 16      # size of square in center of k-space \n",
    "\n",
    "\n",
    "# # generate a random subsampling pattern\n",
    "# np.random.seed(np.random.randint(100))\n",
    "# pattern = np.random.random_sample(kspace.shape)\n",
    "# pattern=pattern<percent  # random data\n",
    "\n",
    "# pattern[sz[0]//2-square_size//2:sz[0]//2+square_size//2,sz[0]//2-square_size//2:sz[0]//2+square_size//2] = 1   # square in center of k-space \n",
    "# pattern = np.fft.fftshift(pattern) # high  frequencies centered as kspace and as FFT needs it\n",
    "\n",
    "pattern= pattern_resampled\n",
    "\n",
    "kspace = kspace_full *pattern  # apply the undersampling pattern\n",
    "\n",
    "actual_measured_percent =np.count_nonzero(pattern) / pattern.size *100  #  calculate the actually measured data in percent\n",
    "\n",
    "## actual iterative reconstruction algorithm \n",
    "current = np.zeros(kspace.size).reshape(kspace.shape)\n",
    "current_shrink = np.zeros(kspace.size).reshape(kspace.shape)\n",
    "first = updateData(kspace, pattern, current, 1,0)\n",
    "current_shrink=first\n",
    "all_iter = np.zeros((kspace.shape[0],kspace.shape[1],number_of_iterations))\n",
    "\n",
    "i = 0\n",
    "while i < number_of_iterations:\n",
    "    current = updateData(kspace, pattern, current_shrink, 0.1,i)\n",
    "   \n",
    "    current_shrink = denoise_tv_chambolle(abs(current), denoising_strength)\n",
    "    # current_shrink = waveletShrinkage(abs(current), denoising_strength)\n",
    "    \n",
    "    all_iter[:,:,i]=current\n",
    "    i = i + 1; \n",
    "\t\t\n",
    "## Plotting\n",
    "\n",
    "pattern_vis = np.fft.fftshift(pattern * 256)\n",
    "\n",
    "fig=plt.figure(figsize=(5, 10), dpi=90)\n",
    "plt.subplot(321)\n",
    "plt.set_cmap(plt.gray())\n",
    "plt.imshow(abs(recon_nufft)); plt.ylabel('recon_full')\n",
    "plt.subplot(322)\n",
    "plt.set_cmap(plt.gray())\n",
    "plt.imshow(abs(pattern_vis)); plt.ylabel(\"pattern_vis\"); plt.title(\"{:.1f} % sampled\".format(actual_measured_percent))\n",
    "plt.subplot(323)\n",
    "plt.set_cmap(plt.gray())\n",
    "plt.imshow(abs(first)); plt.ylabel('first iter (=NUFFT)')\n",
    "plt.subplot(325)\n",
    "plt.set_cmap(plt.gray())\n",
    "plt.imshow(abs(current_shrink)) ; plt.ylabel('final recon')\n",
    "plt.subplot(324)\n",
    "plt.set_cmap(plt.gray())\n",
    "plt.imshow(np.log(abs(np.fft.fftshift(kspace_full)))); plt.ylabel('kspace_nufft')\n",
    "plt.subplot(326)\n",
    "plt.set_cmap(plt.gray())\n",
    "plt.imshow(np.log(abs(np.fft.fftshift((kspace))))); plt.ylabel('kspace*pattern')\n",
    "plt.show()"
   ]
  },
  {
   "cell_type": "code",
   "execution_count": null,
   "metadata": {},
   "outputs": [],
   "source": [
    "# Plot some iterations\n",
    "idx=np.linspace(1,all_iter.shape[2],25)-1       # make 25 example iterations\n",
    "red_iter=all_iter[:,:,tuple(idx.astype(int))]   # choose them from all iters\n",
    "Tot=red_iter.shape[2]\n",
    "Rows = Tot // 5 \n",
    "if Tot % 5 != 0:\n",
    "    Rows += 1\n",
    "Position = range(1,Tot + 1) # Position index\n",
    "\n",
    "fig = plt.figure()\n",
    "for k in range(Tot):\n",
    "  ax = fig.add_subplot(Rows,5,Position[k])\n",
    "  ax.imshow((abs((red_iter[:,:,k])))); plt.title('iter {}'.format(idx[k].astype(int)))\n",
    "  print(k)\n",
    "plt.show()"
   ]
  }
 ],
 "metadata": {
  "kernelspec": {
   "display_name": "base",
   "language": "python",
   "name": "python3"
  },
  "language_info": {
   "codemirror_mode": {
    "name": "ipython",
    "version": 3
   },
   "file_extension": ".py",
   "mimetype": "text/x-python",
   "name": "python",
   "nbconvert_exporter": "python",
   "pygments_lexer": "ipython3",
   "version": "3.11.3"
  },
  "orig_nbformat": 4,
  "vscode": {
   "interpreter": {
    "hash": "bc589704568871fa58c3eb081f8d207176b5c73a3e30582c9c56f66346802b1e"
   }
  }
 },
 "nbformat": 4,
 "nbformat_minor": 2
}
