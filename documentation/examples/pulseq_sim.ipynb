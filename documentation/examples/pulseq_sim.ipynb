{
  "cells": [
    {
      "cell_type": "code",
      "execution_count": 2,
      "metadata": {
        "colab": {
          "base_uri": "https://localhost:8080/",
          "height": 257
        },
        "id": "O-_sr6lZjR_n",
        "outputId": "52bb3cab-4dbf-45d5-aaed-0e05f5d14128"
      },
      "outputs": [],
      "source": [
        "import MRzeroCore as mr0"
      ]
    },
    {
      "cell_type": "code",
      "execution_count": 4,
      "metadata": {
        "id": "HTYTghFLjeCY"
      },
      "outputs": [
        {
          "name": "stderr",
          "output_type": "stream",
          "text": [
            "c:\\Users\\jonat\\AppData\\Local\\Programs\\Python\\Python311\\Lib\\site-packages\\torch\\functional.py:504: UserWarning: torch.meshgrid: in an upcoming release, it will be required to pass the indexing argument. (Triggered internally at ..\\aten\\src\\ATen\\native\\TensorShape.cpp:3484.)\n",
            "  return _VF.meshgrid(tensors, **kwargs)  # type: ignore[attr-defined]\n",
            "c:\\Users\\jonat\\AppData\\Local\\Programs\\Python\\Python311\\Lib\\site-packages\\MRzeroCore\\phantom\\voxel_grid_phantom.py:154: UserWarning: To copy construct from a tensor, it is recommended to use sourceTensor.clone().detach() or sourceTensor.clone().detach().requires_grad_(True), rather than torch.tensor(sourceTensor).\n",
            "  torch.tensor(shape, device=self.PD.device) / 2,\n"
          ]
        },
        {
          "ename": "AssertionError",
          "evalue": "",
          "output_type": "error",
          "traceback": [
            "\u001b[1;31m---------------------------------------------------------------------------\u001b[0m",
            "\u001b[1;31mAssertionError\u001b[0m                            Traceback (most recent call last)",
            "Cell \u001b[1;32mIn[4], line 4\u001b[0m\n\u001b[0;32m      1\u001b[0m phantom \u001b[39m=\u001b[39m mr0\u001b[39m.\u001b[39mVoxelGridPhantom\u001b[39m.\u001b[39mbrainweb(\u001b[39m\"\u001b[39m\u001b[39msubject05.npz\u001b[39m\u001b[39m\"\u001b[39m)\n\u001b[0;32m      2\u001b[0m data \u001b[39m=\u001b[39m phantom\u001b[39m.\u001b[39mbuild()\n\u001b[1;32m----> 4\u001b[0m seq_file \u001b[39m=\u001b[39m mr0\u001b[39m.\u001b[39;49mPulseqFile(\u001b[39m\"\u001b[39;49m\u001b[39mout/flash pTx.seq\u001b[39;49m\u001b[39m\"\u001b[39;49m)\n\u001b[0;32m      5\u001b[0m seq \u001b[39m=\u001b[39m mr0\u001b[39m.\u001b[39mSequence\u001b[39m.\u001b[39mfrom_seq_file(seq_file)\n\u001b[0;32m      6\u001b[0m seq\u001b[39m.\u001b[39mplot_kspace_trajectory()\n",
            "File \u001b[1;32mc:\\Users\\jonat\\AppData\\Local\\Programs\\Python\\Python311\\Lib\\site-packages\\MRzeroCore\\pulseq\\pulseq_loader\\pulseq_file\\__init__.py:22\u001b[0m, in \u001b[0;36mPulseqFile.__init__\u001b[1;34m(self, file_name)\u001b[0m\n\u001b[0;32m     20\u001b[0m \u001b[39massert\u001b[39;00m \u001b[39m\"\u001b[39m\u001b[39mVERSION\u001b[39m\u001b[39m\"\u001b[39m \u001b[39min\u001b[39;00m sections\n\u001b[0;32m     21\u001b[0m \u001b[39mself\u001b[39m\u001b[39m.\u001b[39mversion \u001b[39m=\u001b[39m helpers\u001b[39m.\u001b[39mparse_version(sections\u001b[39m.\u001b[39mpop(\u001b[39m\"\u001b[39m\u001b[39mVERSION\u001b[39m\u001b[39m\"\u001b[39m))\n\u001b[1;32m---> 22\u001b[0m \u001b[39massert\u001b[39;00m \u001b[39m120\u001b[39m \u001b[39m<\u001b[39m\u001b[39m=\u001b[39m \u001b[39mself\u001b[39m\u001b[39m.\u001b[39mversion \u001b[39m<\u001b[39m\u001b[39m=\u001b[39m \u001b[39m140\u001b[39m\n\u001b[0;32m     24\u001b[0m \u001b[39m# mandatory sections\u001b[39;00m\n\u001b[0;32m     25\u001b[0m \u001b[39massert\u001b[39;00m \u001b[39m\"\u001b[39m\u001b[39mBLOCKS\u001b[39m\u001b[39m\"\u001b[39m \u001b[39min\u001b[39;00m sections\n",
            "\u001b[1;31mAssertionError\u001b[0m: "
          ]
        }
      ],
      "source": [
        "phantom = mr0.VoxelGridPhantom.brainweb(\"subject05.npz\")\n",
        "data = phantom.build()\n",
        "\n",
        "seq_file = mr0.PulseqFile(\"out/flash pTx.seq\")\n",
        "seq = mr0.Sequence.from_seq_file(seq_file)\n",
        "seq.plot_kspace_trajectory()\n",
        "\n",
        "# Simulate the sequence\n",
        "graph = mr0.compute_graph(seq, data, 200, 1e-3)\n",
        "signal = mr0.execute_graph(graph, seq, data)"
      ]
    },
    {
      "cell_type": "code",
      "execution_count": null,
      "metadata": {
        "id": "uLlcta8qwU5L"
      },
      "outputs": [],
      "source": [
        "#@title 3. reconstruct the image\n",
        "# Unfortunately, we need to limit the resolution as reco_adjoint is very RAM-hungy\n",
        "print('reconstruct and plot')\n",
        "seq0.plot_kspace_trajectory()\n",
        "\n",
        "reco = mr0.reco_adjoint(signal, seq0.get_kspace(), resolution=(64, 64, 1), FOV=(1, 1, 1))\n",
        "plt.figure()\n",
        "plt.subplot(121)\n",
        "plt.title(\"Magnitude\")\n",
        "plt.imshow(reco[:, :, 0].T.abs(), origin=\"lower\")\n",
        "plt.colorbar()\n",
        "plt.subplot(122)\n",
        "plt.title(\"Phase\")\n",
        "plt.imshow(reco[:, :, 0].T.angle(), origin=\"lower\", vmin=-np.pi, vmax=np.pi)\n",
        "plt.colorbar()\n",
        "plt.show()"
      ]
    }
  ],
  "metadata": {
    "colab": {
      "provenance": []
    },
    "kernelspec": {
      "display_name": "Python 3",
      "name": "python3"
    },
    "language_info": {
      "codemirror_mode": {
        "name": "ipython",
        "version": 3
      },
      "file_extension": ".py",
      "mimetype": "text/x-python",
      "name": "python",
      "nbconvert_exporter": "python",
      "pygments_lexer": "ipython3",
      "version": "3.11.3"
    }
  },
  "nbformat": 4,
  "nbformat_minor": 0
}
